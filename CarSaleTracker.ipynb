{
 "cells": [
  {
   "cell_type": "code",
   "execution_count": null,
   "id": "ac28ac34-0ce6-4e08-9566-6206363d5f25",
   "metadata": {},
   "outputs": [],
   "source": [
    "print(\"Welcome to the Car Sales Tracking System!\")\n",
    "carQuantity = 100\n",
    "\n",
    "while carQuantity > 0:\n",
    "    salesQuantity = int(input(\"Please enter today's sales quantity: \"))\n",
    "\n",
    "    # Check if the sales quantity is a positive number\n",
    "    if salesQuantity < 0:\n",
    "        print(\"Please enter a sales quantity greater than zero.\")\n",
    "    else:\n",
    "        # Check if sales quantity is within available stock\n",
    "        if carQuantity >= salesQuantity:\n",
    "            carQuantity -= salesQuantity\n",
    "            print(\"Remaining car quantity: \", carQuantity)\n",
    "        else:\n",
    "            print(\"Sales quantity exceeds available stock.\\nCurrent stock: \", carQuantity)\n",
    "\n",
    "print(\"Car stock is depleted. Thank you for using the system!\")\n",
    "             "
   ]
  },
  {
   "cell_type": "code",
   "execution_count": null,
   "id": "084cc932-6080-484f-bc2d-920ca2997875",
   "metadata": {},
   "outputs": [],
   "source": []
  }
 ],
 "metadata": {
  "kernelspec": {
   "display_name": "Python 3 (ipykernel)",
   "language": "python",
   "name": "python3"
  },
  "language_info": {
   "codemirror_mode": {
    "name": "ipython",
    "version": 3
   },
   "file_extension": ".py",
   "mimetype": "text/x-python",
   "name": "python",
   "nbconvert_exporter": "python",
   "pygments_lexer": "ipython3",
   "version": "3.11.7"
  }
 },
 "nbformat": 4,
 "nbformat_minor": 5
}
